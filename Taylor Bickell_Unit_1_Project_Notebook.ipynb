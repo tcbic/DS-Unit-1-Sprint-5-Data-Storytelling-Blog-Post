{
  "nbformat": 4,
  "nbformat_minor": 0,
  "metadata": {
    "colab": {
      "name": "Unit 1 Project_Primary Visualizations.ipynb",
      "version": "0.3.2",
      "provenance": [],
      "collapsed_sections": [],
      "include_colab_link": true
    },
    "kernelspec": {
      "name": "python3",
      "display_name": "Python 3"
    }
  },
  "cells": [
    {
      "cell_type": "markdown",
      "metadata": {
        "id": "view-in-github",
        "colab_type": "text"
      },
      "source": [
        "<a href=\"https://colab.research.google.com/github/tcbic/DS-Unit-1-Sprint-5-Data-Storytelling-Blog-Post/blob/master/Taylor%20Bickell_Unit_1_Project_Notebook.ipynb\" target=\"_parent\"><img src=\"https://colab.research.google.com/assets/colab-badge.svg\" alt=\"Open In Colab\"/></a>"
      ]
    },
    {
      "cell_type": "code",
      "metadata": {
        "id": "XQqq-a-zfR4P",
        "colab_type": "code",
        "colab": {}
      },
      "source": [
        "import pandas as pd"
      ],
      "execution_count": 0,
      "outputs": []
    },
    {
      "cell_type": "code",
      "metadata": {
        "id": "aTtHKOlPfU8w",
        "colab_type": "code",
        "outputId": "2c809e2e-87a6-4e31-bc8f-9290d3f7c1b1",
        "colab": {
          "resources": {
            "http://localhost:8080/nbextensions/google.colab/files.js": {
              "data": "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",
              "ok": true,
              "headers": [
                [
                  "content-type",
                  "application/javascript"
                ]
              ],
              "status": 200,
              "status_text": ""
            }
          },
          "base_uri": "https://localhost:8080/",
          "height": 75
        }
      },
      "source": [
        "#Upload sales data.\n",
        "\n",
        "from google.colab import files\n",
        "uploaded = files.upload()"
      ],
      "execution_count": 0,
      "outputs": [
        {
          "output_type": "display_data",
          "data": {
            "text/html": [
              "\n",
              "     <input type=\"file\" id=\"files-9e753beb-d93f-4c27-bc0f-e67a78cc2db1\" name=\"files[]\" multiple disabled />\n",
              "     <output id=\"result-9e753beb-d93f-4c27-bc0f-e67a78cc2db1\">\n",
              "      Upload widget is only available when the cell has been executed in the\n",
              "      current browser session. Please rerun this cell to enable.\n",
              "      </output>\n",
              "      <script src=\"/nbextensions/google.colab/files.js\"></script> "
            ],
            "text/plain": [
              "<IPython.core.display.HTML object>"
            ]
          },
          "metadata": {
            "tags": []
          }
        },
        {
          "output_type": "stream",
          "text": [
            "Saving official_eBay Sales Data_June_17_June_18.csv to official_eBay Sales Data_June_17_June_18.csv\n"
          ],
          "name": "stdout"
        }
      ]
    },
    {
      "cell_type": "code",
      "metadata": {
        "id": "N7vetOE9fhkQ",
        "colab_type": "code",
        "colab": {}
      },
      "source": [
        "import io\n",
        "\n",
        "full_sales_year = pd.read_csv(io.BytesIO(uploaded['official_eBay Sales Data_June_17_June_18.csv']))"
      ],
      "execution_count": 0,
      "outputs": []
    },
    {
      "cell_type": "code",
      "metadata": {
        "id": "8jG4DhZAfob-",
        "colab_type": "code",
        "outputId": "b5b8e249-00ea-4b9d-85b9-fd73c23b5bf7",
        "colab": {
          "base_uri": "https://localhost:8080/",
          "height": 35
        }
      },
      "source": [
        "#Only interested in clothing sales...\n",
        "\n",
        "full_sales_year = full_sales_year[full_sales_year['Item Category'] != 'Other']\n",
        "\n",
        "full_sales_year['Item Category'].count()"
      ],
      "execution_count": 0,
      "outputs": [
        {
          "output_type": "execute_result",
          "data": {
            "text/plain": [
              "2905"
            ]
          },
          "metadata": {
            "tags": []
          },
          "execution_count": 4
        }
      ]
    },
    {
      "cell_type": "code",
      "metadata": {
        "id": "xggE_CFHfpsM",
        "colab_type": "code",
        "outputId": "0aadc205-500d-42c8-979b-c2d3aea439e2",
        "colab": {
          "base_uri": "https://localhost:8080/",
          "height": 225
        }
      },
      "source": [
        "#Time Series\n",
        "\n",
        "full_sales_year['Sale Date'] = pd.to_datetime(full_sales_year['Sale Date'])\n",
        "\n",
        "#Check for conversion.\n",
        "\n",
        "full_sales_year.dtypes"
      ],
      "execution_count": 0,
      "outputs": [
        {
          "output_type": "execute_result",
          "data": {
            "text/plain": [
              "Sale Date                   datetime64[ns]\n",
              "Buyer State                         object\n",
              "Quantity                             int64\n",
              "Mens, Womens or Children            object\n",
              "Size                                object\n",
              "Print                               object\n",
              "Brand                               object\n",
              "Item Category                       object\n",
              "Item Sale Price                    float64\n",
              "Listing Format                      object\n",
              "NWT or Pre Owned                    object\n",
              "dtype: object"
            ]
          },
          "metadata": {
            "tags": []
          },
          "execution_count": 5
        }
      ]
    },
    {
      "cell_type": "code",
      "metadata": {
        "id": "C0S6N4P4fy_z",
        "colab_type": "code",
        "colab": {}
      },
      "source": [
        "full_sales_year = full_sales_year.set_index('Sale Date')"
      ],
      "execution_count": 0,
      "outputs": []
    },
    {
      "cell_type": "code",
      "metadata": {
        "id": "TrmjLTPpf16u",
        "colab_type": "code",
        "colab": {}
      },
      "source": [
        "#Add these columns to our DataFrame for additional exploration purposes.\n",
        "\n",
        "full_sales_year['Year'] = full_sales_year.index.year\n",
        "full_sales_year['Month'] = full_sales_year.index.month\n",
        "full_sales_year['Weekday Name'] = full_sales_year.index.weekday_name"
      ],
      "execution_count": 0,
      "outputs": []
    },
    {
      "cell_type": "code",
      "metadata": {
        "id": "XBv94-mdf-96",
        "colab_type": "code",
        "outputId": "04ca0d08-f540-4a1c-b5f9-446c8708200f",
        "colab": {
          "base_uri": "https://localhost:8080/",
          "height": 354
        }
      },
      "source": [
        "#View data...\n",
        "\n",
        "full_sales_year.head()"
      ],
      "execution_count": 0,
      "outputs": [
        {
          "output_type": "execute_result",
          "data": {
            "text/html": [
              "<div>\n",
              "<style scoped>\n",
              "    .dataframe tbody tr th:only-of-type {\n",
              "        vertical-align: middle;\n",
              "    }\n",
              "\n",
              "    .dataframe tbody tr th {\n",
              "        vertical-align: top;\n",
              "    }\n",
              "\n",
              "    .dataframe thead th {\n",
              "        text-align: right;\n",
              "    }\n",
              "</style>\n",
              "<table border=\"1\" class=\"dataframe\">\n",
              "  <thead>\n",
              "    <tr style=\"text-align: right;\">\n",
              "      <th></th>\n",
              "      <th>Buyer State</th>\n",
              "      <th>Quantity</th>\n",
              "      <th>Mens, Womens or Children</th>\n",
              "      <th>Size</th>\n",
              "      <th>Print</th>\n",
              "      <th>Brand</th>\n",
              "      <th>Item Category</th>\n",
              "      <th>Item Sale Price</th>\n",
              "      <th>Listing Format</th>\n",
              "      <th>NWT or Pre Owned</th>\n",
              "      <th>Year</th>\n",
              "      <th>Month</th>\n",
              "      <th>Weekday Name</th>\n",
              "    </tr>\n",
              "    <tr>\n",
              "      <th>Sale Date</th>\n",
              "      <th></th>\n",
              "      <th></th>\n",
              "      <th></th>\n",
              "      <th></th>\n",
              "      <th></th>\n",
              "      <th></th>\n",
              "      <th></th>\n",
              "      <th></th>\n",
              "      <th></th>\n",
              "      <th></th>\n",
              "      <th></th>\n",
              "      <th></th>\n",
              "      <th></th>\n",
              "    </tr>\n",
              "  </thead>\n",
              "  <tbody>\n",
              "    <tr>\n",
              "      <th>2017-06-20</th>\n",
              "      <td>CA</td>\n",
              "      <td>1</td>\n",
              "      <td>M</td>\n",
              "      <td>Med</td>\n",
              "      <td>Pattern</td>\n",
              "      <td>Bonobos</td>\n",
              "      <td>Casual Shirts</td>\n",
              "      <td>16.00</td>\n",
              "      <td>Fixed</td>\n",
              "      <td>Pre-Owned</td>\n",
              "      <td>2017</td>\n",
              "      <td>6</td>\n",
              "      <td>Tuesday</td>\n",
              "    </tr>\n",
              "    <tr>\n",
              "      <th>2017-06-21</th>\n",
              "      <td>MN</td>\n",
              "      <td>1</td>\n",
              "      <td>M</td>\n",
              "      <td>Med</td>\n",
              "      <td>Solid</td>\n",
              "      <td>5.11 Tactical</td>\n",
              "      <td>Casual Shirts</td>\n",
              "      <td>18.70</td>\n",
              "      <td>Fixed</td>\n",
              "      <td>Pre-Owned</td>\n",
              "      <td>2017</td>\n",
              "      <td>6</td>\n",
              "      <td>Wednesday</td>\n",
              "    </tr>\n",
              "    <tr>\n",
              "      <th>2017-06-21</th>\n",
              "      <td>SC</td>\n",
              "      <td>1</td>\n",
              "      <td>M</td>\n",
              "      <td>Med</td>\n",
              "      <td>Pattern</td>\n",
              "      <td>Tommy Bahama</td>\n",
              "      <td>Shorts</td>\n",
              "      <td>10.00</td>\n",
              "      <td>Fixed</td>\n",
              "      <td>Pre-Owned</td>\n",
              "      <td>2017</td>\n",
              "      <td>6</td>\n",
              "      <td>Wednesday</td>\n",
              "    </tr>\n",
              "    <tr>\n",
              "      <th>2017-06-21</th>\n",
              "      <td>AR</td>\n",
              "      <td>1</td>\n",
              "      <td>M</td>\n",
              "      <td>Med</td>\n",
              "      <td>Pattern</td>\n",
              "      <td>O'Neill</td>\n",
              "      <td>Shorts</td>\n",
              "      <td>4.15</td>\n",
              "      <td>Auction</td>\n",
              "      <td>Pre-Owned</td>\n",
              "      <td>2017</td>\n",
              "      <td>6</td>\n",
              "      <td>Wednesday</td>\n",
              "    </tr>\n",
              "    <tr>\n",
              "      <th>2017-06-21</th>\n",
              "      <td>PA</td>\n",
              "      <td>1</td>\n",
              "      <td>M</td>\n",
              "      <td>XL</td>\n",
              "      <td>Pattern</td>\n",
              "      <td>Banana Republic</td>\n",
              "      <td>Casual Shirts</td>\n",
              "      <td>0.99</td>\n",
              "      <td>Auction</td>\n",
              "      <td>Pre-Owned</td>\n",
              "      <td>2017</td>\n",
              "      <td>6</td>\n",
              "      <td>Wednesday</td>\n",
              "    </tr>\n",
              "  </tbody>\n",
              "</table>\n",
              "</div>"
            ],
            "text/plain": [
              "           Buyer State  Quantity  ... Month Weekday Name\n",
              "Sale Date                         ...                   \n",
              "2017-06-20          CA         1  ...     6      Tuesday\n",
              "2017-06-21          MN         1  ...     6    Wednesday\n",
              "2017-06-21          SC         1  ...     6    Wednesday\n",
              "2017-06-21          AR         1  ...     6    Wednesday\n",
              "2017-06-21          PA         1  ...     6    Wednesday\n",
              "\n",
              "[5 rows x 13 columns]"
            ]
          },
          "metadata": {
            "tags": []
          },
          "execution_count": 8
        }
      ]
    },
    {
      "cell_type": "code",
      "metadata": {
        "id": "xF4uIhdzoTxG",
        "colab_type": "code",
        "colab": {}
      },
      "source": [
        "full_sales_year = full_sales_year.drop(columns=['Buyer State', 'Mens, Womens or Children', 'Size', 'Print', 'Brand', 'Item Category', 'Listing Format', \n",
        "                                  'NWT or Pre Owned', 'Year', 'Month', 'Weekday Name'])"
      ],
      "execution_count": 0,
      "outputs": []
    },
    {
      "cell_type": "code",
      "metadata": {
        "id": "XufLfWgfs1jt",
        "colab_type": "code",
        "colab": {}
      },
      "source": [
        "#Create a copy of the DataFrame.\n",
        "\n",
        "full = full_sales_year.copy()"
      ],
      "execution_count": 0,
      "outputs": []
    },
    {
      "cell_type": "code",
      "metadata": {
        "id": "7N7sEQbns-Wr",
        "colab_type": "code",
        "colab": {}
      },
      "source": [
        "full = full.resample('M').sum()"
      ],
      "execution_count": 0,
      "outputs": []
    },
    {
      "cell_type": "code",
      "metadata": {
        "id": "ApLV8JoVtOXJ",
        "colab_type": "code",
        "colab": {}
      },
      "source": [
        "full = full.rename(columns={'Quantity':'Number of Items Sold', 'Item Sale Price':'Total Sales'})"
      ],
      "execution_count": 0,
      "outputs": []
    },
    {
      "cell_type": "code",
      "metadata": {
        "id": "QHplf6XYtR4V",
        "colab_type": "code",
        "colab": {}
      },
      "source": [
        "full.index = full.index.strftime('%b %Y')"
      ],
      "execution_count": 0,
      "outputs": []
    },
    {
      "cell_type": "code",
      "metadata": {
        "id": "b8J8JrSRtZif",
        "colab_type": "code",
        "outputId": "afedf30e-0654-424f-d382-a21efbfe4e26",
        "colab": {
          "base_uri": "https://localhost:8080/",
          "height": 202
        }
      },
      "source": [
        "full.head()"
      ],
      "execution_count": 0,
      "outputs": [
        {
          "output_type": "execute_result",
          "data": {
            "text/html": [
              "<div>\n",
              "<style scoped>\n",
              "    .dataframe tbody tr th:only-of-type {\n",
              "        vertical-align: middle;\n",
              "    }\n",
              "\n",
              "    .dataframe tbody tr th {\n",
              "        vertical-align: top;\n",
              "    }\n",
              "\n",
              "    .dataframe thead th {\n",
              "        text-align: right;\n",
              "    }\n",
              "</style>\n",
              "<table border=\"1\" class=\"dataframe\">\n",
              "  <thead>\n",
              "    <tr style=\"text-align: right;\">\n",
              "      <th></th>\n",
              "      <th>Number of Items Sold</th>\n",
              "      <th>Total Sales</th>\n",
              "    </tr>\n",
              "  </thead>\n",
              "  <tbody>\n",
              "    <tr>\n",
              "      <th>Jun 2017</th>\n",
              "      <td>41</td>\n",
              "      <td>984.43</td>\n",
              "    </tr>\n",
              "    <tr>\n",
              "      <th>Jul 2017</th>\n",
              "      <td>156</td>\n",
              "      <td>4232.98</td>\n",
              "    </tr>\n",
              "    <tr>\n",
              "      <th>Aug 2017</th>\n",
              "      <td>214</td>\n",
              "      <td>6231.05</td>\n",
              "    </tr>\n",
              "    <tr>\n",
              "      <th>Sep 2017</th>\n",
              "      <td>151</td>\n",
              "      <td>4650.53</td>\n",
              "    </tr>\n",
              "    <tr>\n",
              "      <th>Oct 2017</th>\n",
              "      <td>218</td>\n",
              "      <td>5227.56</td>\n",
              "    </tr>\n",
              "  </tbody>\n",
              "</table>\n",
              "</div>"
            ],
            "text/plain": [
              "          Number of Items Sold  Total Sales\n",
              "Jun 2017                    41       984.43\n",
              "Jul 2017                   156      4232.98\n",
              "Aug 2017                   214      6231.05\n",
              "Sep 2017                   151      4650.53\n",
              "Oct 2017                   218      5227.56"
            ]
          },
          "metadata": {
            "tags": []
          },
          "execution_count": 14
        }
      ]
    },
    {
      "cell_type": "code",
      "metadata": {
        "id": "wIkmLwtpggUt",
        "colab_type": "code",
        "colab": {}
      },
      "source": [
        "#Seasonal date ranges\n",
        "\n",
        "#Summer 2017: 6/20 - 9/22\n",
        "\n",
        "#Fall 2017: 9/22 - 12/21\n",
        "\n",
        "#Winter 2017/2018: 12/21 - 3/20\n",
        "\n",
        "#Spring 2018: 3/20 - 6/21\n",
        "\n",
        "#Q4 2017: 10/1 - 12/31 "
      ],
      "execution_count": 0,
      "outputs": []
    },
    {
      "cell_type": "code",
      "metadata": {
        "id": "102OrVeFmDf_",
        "colab_type": "code",
        "outputId": "e925b60a-cb03-409a-9f3a-535ad5a84d68",
        "colab": {
          "base_uri": "https://localhost:8080/",
          "height": 233
        }
      },
      "source": [
        "#Summer 2017\n",
        "\n",
        "summer_17 = full_sales_year['2017-06-20':'2017-09-21']\n",
        "\n",
        "summer_17.head()"
      ],
      "execution_count": 0,
      "outputs": [
        {
          "output_type": "execute_result",
          "data": {
            "text/html": [
              "<div>\n",
              "<style scoped>\n",
              "    .dataframe tbody tr th:only-of-type {\n",
              "        vertical-align: middle;\n",
              "    }\n",
              "\n",
              "    .dataframe tbody tr th {\n",
              "        vertical-align: top;\n",
              "    }\n",
              "\n",
              "    .dataframe thead th {\n",
              "        text-align: right;\n",
              "    }\n",
              "</style>\n",
              "<table border=\"1\" class=\"dataframe\">\n",
              "  <thead>\n",
              "    <tr style=\"text-align: right;\">\n",
              "      <th></th>\n",
              "      <th>Quantity</th>\n",
              "      <th>Item Sale Price</th>\n",
              "    </tr>\n",
              "    <tr>\n",
              "      <th>Sale Date</th>\n",
              "      <th></th>\n",
              "      <th></th>\n",
              "    </tr>\n",
              "  </thead>\n",
              "  <tbody>\n",
              "    <tr>\n",
              "      <th>2017-06-20</th>\n",
              "      <td>1</td>\n",
              "      <td>16.00</td>\n",
              "    </tr>\n",
              "    <tr>\n",
              "      <th>2017-06-21</th>\n",
              "      <td>1</td>\n",
              "      <td>18.70</td>\n",
              "    </tr>\n",
              "    <tr>\n",
              "      <th>2017-06-21</th>\n",
              "      <td>1</td>\n",
              "      <td>10.00</td>\n",
              "    </tr>\n",
              "    <tr>\n",
              "      <th>2017-06-21</th>\n",
              "      <td>1</td>\n",
              "      <td>4.15</td>\n",
              "    </tr>\n",
              "    <tr>\n",
              "      <th>2017-06-21</th>\n",
              "      <td>1</td>\n",
              "      <td>0.99</td>\n",
              "    </tr>\n",
              "  </tbody>\n",
              "</table>\n",
              "</div>"
            ],
            "text/plain": [
              "            Quantity  Item Sale Price\n",
              "Sale Date                            \n",
              "2017-06-20         1            16.00\n",
              "2017-06-21         1            18.70\n",
              "2017-06-21         1            10.00\n",
              "2017-06-21         1             4.15\n",
              "2017-06-21         1             0.99"
            ]
          },
          "metadata": {
            "tags": []
          },
          "execution_count": 16
        }
      ]
    },
    {
      "cell_type": "code",
      "metadata": {
        "id": "19tTuni5o3ds",
        "colab_type": "code",
        "colab": {}
      },
      "source": [
        "summer_17 = summer_17.resample('D').sum()"
      ],
      "execution_count": 0,
      "outputs": []
    },
    {
      "cell_type": "code",
      "metadata": {
        "id": "nUxSqZWMpoHX",
        "colab_type": "code",
        "outputId": "b2a105d6-e4b9-452a-bc6f-c07ff02eb950",
        "colab": {
          "base_uri": "https://localhost:8080/",
          "height": 233
        }
      },
      "source": [
        "summer_17.head()"
      ],
      "execution_count": 0,
      "outputs": [
        {
          "output_type": "execute_result",
          "data": {
            "text/html": [
              "<div>\n",
              "<style scoped>\n",
              "    .dataframe tbody tr th:only-of-type {\n",
              "        vertical-align: middle;\n",
              "    }\n",
              "\n",
              "    .dataframe tbody tr th {\n",
              "        vertical-align: top;\n",
              "    }\n",
              "\n",
              "    .dataframe thead th {\n",
              "        text-align: right;\n",
              "    }\n",
              "</style>\n",
              "<table border=\"1\" class=\"dataframe\">\n",
              "  <thead>\n",
              "    <tr style=\"text-align: right;\">\n",
              "      <th></th>\n",
              "      <th>Quantity</th>\n",
              "      <th>Item Sale Price</th>\n",
              "    </tr>\n",
              "    <tr>\n",
              "      <th>Sale Date</th>\n",
              "      <th></th>\n",
              "      <th></th>\n",
              "    </tr>\n",
              "  </thead>\n",
              "  <tbody>\n",
              "    <tr>\n",
              "      <th>2017-06-20</th>\n",
              "      <td>1</td>\n",
              "      <td>16.00</td>\n",
              "    </tr>\n",
              "    <tr>\n",
              "      <th>2017-06-21</th>\n",
              "      <td>4</td>\n",
              "      <td>33.84</td>\n",
              "    </tr>\n",
              "    <tr>\n",
              "      <th>2017-06-22</th>\n",
              "      <td>3</td>\n",
              "      <td>89.40</td>\n",
              "    </tr>\n",
              "    <tr>\n",
              "      <th>2017-06-23</th>\n",
              "      <td>1</td>\n",
              "      <td>34.00</td>\n",
              "    </tr>\n",
              "    <tr>\n",
              "      <th>2017-06-24</th>\n",
              "      <td>4</td>\n",
              "      <td>100.10</td>\n",
              "    </tr>\n",
              "  </tbody>\n",
              "</table>\n",
              "</div>"
            ],
            "text/plain": [
              "            Quantity  Item Sale Price\n",
              "Sale Date                            \n",
              "2017-06-20         1            16.00\n",
              "2017-06-21         4            33.84\n",
              "2017-06-22         3            89.40\n",
              "2017-06-23         1            34.00\n",
              "2017-06-24         4           100.10"
            ]
          },
          "metadata": {
            "tags": []
          },
          "execution_count": 18
        }
      ]
    },
    {
      "cell_type": "code",
      "metadata": {
        "id": "hGuUq9DQpWdd",
        "colab_type": "code",
        "colab": {}
      },
      "source": [
        "summer_17.index = summer_17.index.strftime('%b %d %Y')"
      ],
      "execution_count": 0,
      "outputs": []
    },
    {
      "cell_type": "code",
      "metadata": {
        "id": "aTczXXwMHVGt",
        "colab_type": "code",
        "colab": {}
      },
      "source": [
        "summer_17 = summer_17.reset_index()"
      ],
      "execution_count": 0,
      "outputs": []
    },
    {
      "cell_type": "code",
      "metadata": {
        "id": "Sq1fWw41pwz9",
        "colab_type": "code",
        "colab": {}
      },
      "source": [
        "summer_17 = summer_17.rename(columns={'index':'Day', 'Quantity':'Number of Items Sold', 'Item Sale Price':'Total Sales'})"
      ],
      "execution_count": 0,
      "outputs": []
    },
    {
      "cell_type": "code",
      "metadata": {
        "id": "5qMFQ3sF64us",
        "colab_type": "code",
        "outputId": "8a4e4964-a8f4-44e6-99a0-bdff81ff207c",
        "colab": {
          "base_uri": "https://localhost:8080/",
          "height": 294
        }
      },
      "source": [
        "summer_17.describe()"
      ],
      "execution_count": 0,
      "outputs": [
        {
          "output_type": "execute_result",
          "data": {
            "text/html": [
              "<div>\n",
              "<style scoped>\n",
              "    .dataframe tbody tr th:only-of-type {\n",
              "        vertical-align: middle;\n",
              "    }\n",
              "\n",
              "    .dataframe tbody tr th {\n",
              "        vertical-align: top;\n",
              "    }\n",
              "\n",
              "    .dataframe thead th {\n",
              "        text-align: right;\n",
              "    }\n",
              "</style>\n",
              "<table border=\"1\" class=\"dataframe\">\n",
              "  <thead>\n",
              "    <tr style=\"text-align: right;\">\n",
              "      <th></th>\n",
              "      <th>Number of Items Sold</th>\n",
              "      <th>Total Sales</th>\n",
              "    </tr>\n",
              "  </thead>\n",
              "  <tbody>\n",
              "    <tr>\n",
              "      <th>count</th>\n",
              "      <td>94.000000</td>\n",
              "      <td>94.000000</td>\n",
              "    </tr>\n",
              "    <tr>\n",
              "      <th>mean</th>\n",
              "      <td>5.659574</td>\n",
              "      <td>162.356489</td>\n",
              "    </tr>\n",
              "    <tr>\n",
              "      <th>std</th>\n",
              "      <td>2.600882</td>\n",
              "      <td>92.696028</td>\n",
              "    </tr>\n",
              "    <tr>\n",
              "      <th>min</th>\n",
              "      <td>1.000000</td>\n",
              "      <td>16.000000</td>\n",
              "    </tr>\n",
              "    <tr>\n",
              "      <th>25%</th>\n",
              "      <td>4.000000</td>\n",
              "      <td>97.092500</td>\n",
              "    </tr>\n",
              "    <tr>\n",
              "      <th>50%</th>\n",
              "      <td>5.500000</td>\n",
              "      <td>149.945000</td>\n",
              "    </tr>\n",
              "    <tr>\n",
              "      <th>75%</th>\n",
              "      <td>7.000000</td>\n",
              "      <td>209.267500</td>\n",
              "    </tr>\n",
              "    <tr>\n",
              "      <th>max</th>\n",
              "      <td>12.000000</td>\n",
              "      <td>478.300000</td>\n",
              "    </tr>\n",
              "  </tbody>\n",
              "</table>\n",
              "</div>"
            ],
            "text/plain": [
              "       Number of Items Sold  Total Sales\n",
              "count             94.000000    94.000000\n",
              "mean               5.659574   162.356489\n",
              "std                2.600882    92.696028\n",
              "min                1.000000    16.000000\n",
              "25%                4.000000    97.092500\n",
              "50%                5.500000   149.945000\n",
              "75%                7.000000   209.267500\n",
              "max               12.000000   478.300000"
            ]
          },
          "metadata": {
            "tags": []
          },
          "execution_count": 192
        }
      ]
    },
    {
      "cell_type": "code",
      "metadata": {
        "id": "ebDCGSEzq7Kf",
        "colab_type": "code",
        "colab": {}
      },
      "source": [
        "#Fall 2017\n",
        "\n",
        "fall_17 = full_sales_year['2017-09-22':'2017-12-20']"
      ],
      "execution_count": 0,
      "outputs": []
    },
    {
      "cell_type": "code",
      "metadata": {
        "id": "HzpGuVZ-rfIC",
        "colab_type": "code",
        "colab": {}
      },
      "source": [
        "fall_17 = fall_17.resample('D').sum()"
      ],
      "execution_count": 0,
      "outputs": []
    },
    {
      "cell_type": "code",
      "metadata": {
        "id": "ZKn_at6nrghf",
        "colab_type": "code",
        "colab": {}
      },
      "source": [
        "fall_17.index = fall_17.index.strftime('%b %d %Y')"
      ],
      "execution_count": 0,
      "outputs": []
    },
    {
      "cell_type": "code",
      "metadata": {
        "id": "Uur_Vma1IFzk",
        "colab_type": "code",
        "colab": {}
      },
      "source": [
        "fall_17 = fall_17.reset_index()"
      ],
      "execution_count": 0,
      "outputs": []
    },
    {
      "cell_type": "code",
      "metadata": {
        "id": "cptKhZXMmBlb",
        "colab_type": "code",
        "colab": {}
      },
      "source": [
        "fall_17 = fall_17.rename(columns={'index':'Day', 'Quantity':'Number of Items Sold', 'Item Sale Price':'Total Sales'})"
      ],
      "execution_count": 0,
      "outputs": []
    },
    {
      "cell_type": "code",
      "metadata": {
        "id": "lJuoB3Xrr06v",
        "colab_type": "code",
        "outputId": "c674b1bc-02c7-415f-d659-8decc8e16bfb",
        "colab": {
          "base_uri": "https://localhost:8080/",
          "height": 202
        }
      },
      "source": [
        "fall_17.head()"
      ],
      "execution_count": 0,
      "outputs": [
        {
          "output_type": "execute_result",
          "data": {
            "text/html": [
              "<div>\n",
              "<style scoped>\n",
              "    .dataframe tbody tr th:only-of-type {\n",
              "        vertical-align: middle;\n",
              "    }\n",
              "\n",
              "    .dataframe tbody tr th {\n",
              "        vertical-align: top;\n",
              "    }\n",
              "\n",
              "    .dataframe thead th {\n",
              "        text-align: right;\n",
              "    }\n",
              "</style>\n",
              "<table border=\"1\" class=\"dataframe\">\n",
              "  <thead>\n",
              "    <tr style=\"text-align: right;\">\n",
              "      <th></th>\n",
              "      <th>Day</th>\n",
              "      <th>Number of Items Sold</th>\n",
              "      <th>Total Sales</th>\n",
              "    </tr>\n",
              "  </thead>\n",
              "  <tbody>\n",
              "    <tr>\n",
              "      <th>0</th>\n",
              "      <td>Sep 22 2017</td>\n",
              "      <td>4</td>\n",
              "      <td>88.80</td>\n",
              "    </tr>\n",
              "    <tr>\n",
              "      <th>1</th>\n",
              "      <td>Sep 23 2017</td>\n",
              "      <td>3</td>\n",
              "      <td>67.20</td>\n",
              "    </tr>\n",
              "    <tr>\n",
              "      <th>2</th>\n",
              "      <td>Sep 24 2017</td>\n",
              "      <td>1</td>\n",
              "      <td>40.00</td>\n",
              "    </tr>\n",
              "    <tr>\n",
              "      <th>3</th>\n",
              "      <td>Sep 25 2017</td>\n",
              "      <td>6</td>\n",
              "      <td>129.34</td>\n",
              "    </tr>\n",
              "    <tr>\n",
              "      <th>4</th>\n",
              "      <td>Sep 26 2017</td>\n",
              "      <td>2</td>\n",
              "      <td>84.00</td>\n",
              "    </tr>\n",
              "  </tbody>\n",
              "</table>\n",
              "</div>"
            ],
            "text/plain": [
              "           Day  Number of Items Sold  Total Sales\n",
              "0  Sep 22 2017                     4        88.80\n",
              "1  Sep 23 2017                     3        67.20\n",
              "2  Sep 24 2017                     1        40.00\n",
              "3  Sep 25 2017                     6       129.34\n",
              "4  Sep 26 2017                     2        84.00"
            ]
          },
          "metadata": {
            "tags": []
          },
          "execution_count": 227
        }
      ]
    },
    {
      "cell_type": "code",
      "metadata": {
        "id": "4M8BomrGrDxi",
        "colab_type": "code",
        "colab": {}
      },
      "source": [
        "#Winter 2017/2018\n",
        "\n",
        "winter17_18 = full_sales_year['2017-12-21':'2018-03-19']"
      ],
      "execution_count": 0,
      "outputs": []
    },
    {
      "cell_type": "code",
      "metadata": {
        "id": "WvgkSnMOu1Hp",
        "colab_type": "code",
        "colab": {}
      },
      "source": [
        "winter17_18 = winter17_18.resample('D').sum()"
      ],
      "execution_count": 0,
      "outputs": []
    },
    {
      "cell_type": "code",
      "metadata": {
        "id": "uIj-K40Eu8VO",
        "colab_type": "code",
        "colab": {}
      },
      "source": [
        "winter17_18.index = winter17_18.index.strftime('%b %d %Y')"
      ],
      "execution_count": 0,
      "outputs": []
    },
    {
      "cell_type": "code",
      "metadata": {
        "id": "RCTHsxr3IQy7",
        "colab_type": "code",
        "colab": {}
      },
      "source": [
        "winter17_18 = winter17_18.reset_index()"
      ],
      "execution_count": 0,
      "outputs": []
    },
    {
      "cell_type": "code",
      "metadata": {
        "id": "E661GxxRu4_X",
        "colab_type": "code",
        "colab": {}
      },
      "source": [
        "winter17_18 = winter17_18.rename(columns={'index':'Day', 'Quantity':'Number of Items Sold', 'Item Sale Price':'Total Sales'})"
      ],
      "execution_count": 0,
      "outputs": []
    },
    {
      "cell_type": "code",
      "metadata": {
        "id": "oCZj5E3wvSww",
        "colab_type": "code",
        "outputId": "911d48fb-a725-4868-c142-d64352388db4",
        "colab": {
          "base_uri": "https://localhost:8080/",
          "height": 202
        }
      },
      "source": [
        "winter17_18.tail()"
      ],
      "execution_count": 0,
      "outputs": [
        {
          "output_type": "execute_result",
          "data": {
            "text/html": [
              "<div>\n",
              "<style scoped>\n",
              "    .dataframe tbody tr th:only-of-type {\n",
              "        vertical-align: middle;\n",
              "    }\n",
              "\n",
              "    .dataframe tbody tr th {\n",
              "        vertical-align: top;\n",
              "    }\n",
              "\n",
              "    .dataframe thead th {\n",
              "        text-align: right;\n",
              "    }\n",
              "</style>\n",
              "<table border=\"1\" class=\"dataframe\">\n",
              "  <thead>\n",
              "    <tr style=\"text-align: right;\">\n",
              "      <th></th>\n",
              "      <th>Day</th>\n",
              "      <th>Number of Items Sold</th>\n",
              "      <th>Total Sales</th>\n",
              "    </tr>\n",
              "  </thead>\n",
              "  <tbody>\n",
              "    <tr>\n",
              "      <th>84</th>\n",
              "      <td>Mar 15 2018</td>\n",
              "      <td>5</td>\n",
              "      <td>151.48</td>\n",
              "    </tr>\n",
              "    <tr>\n",
              "      <th>85</th>\n",
              "      <td>Mar 16 2018</td>\n",
              "      <td>9</td>\n",
              "      <td>172.00</td>\n",
              "    </tr>\n",
              "    <tr>\n",
              "      <th>86</th>\n",
              "      <td>Mar 17 2018</td>\n",
              "      <td>11</td>\n",
              "      <td>249.93</td>\n",
              "    </tr>\n",
              "    <tr>\n",
              "      <th>87</th>\n",
              "      <td>Mar 18 2018</td>\n",
              "      <td>7</td>\n",
              "      <td>188.96</td>\n",
              "    </tr>\n",
              "    <tr>\n",
              "      <th>88</th>\n",
              "      <td>Mar 19 2018</td>\n",
              "      <td>4</td>\n",
              "      <td>156.99</td>\n",
              "    </tr>\n",
              "  </tbody>\n",
              "</table>\n",
              "</div>"
            ],
            "text/plain": [
              "            Day  Number of Items Sold  Total Sales\n",
              "84  Mar 15 2018                     5       151.48\n",
              "85  Mar 16 2018                     9       172.00\n",
              "86  Mar 17 2018                    11       249.93\n",
              "87  Mar 18 2018                     7       188.96\n",
              "88  Mar 19 2018                     4       156.99"
            ]
          },
          "metadata": {
            "tags": []
          },
          "execution_count": 34
        }
      ]
    },
    {
      "cell_type": "code",
      "metadata": {
        "id": "nvq4kdw3rOt-",
        "colab_type": "code",
        "colab": {}
      },
      "source": [
        "#Spring 2018\n",
        "\n",
        "spring_18 = full_sales_year['2018-03-20':'2018-06-20']"
      ],
      "execution_count": 0,
      "outputs": []
    },
    {
      "cell_type": "code",
      "metadata": {
        "id": "PaLRFbVYvhY6",
        "colab_type": "code",
        "colab": {}
      },
      "source": [
        "spring_18 = spring_18.resample('D').sum()"
      ],
      "execution_count": 0,
      "outputs": []
    },
    {
      "cell_type": "code",
      "metadata": {
        "id": "FDnSlVVEvqyl",
        "colab_type": "code",
        "colab": {}
      },
      "source": [
        "spring_18.index = spring_18.index.strftime('%b %d %Y')"
      ],
      "execution_count": 0,
      "outputs": []
    },
    {
      "cell_type": "code",
      "metadata": {
        "id": "jEz3do9WIjmM",
        "colab_type": "code",
        "colab": {}
      },
      "source": [
        "spring_18 = spring_18.reset_index()"
      ],
      "execution_count": 0,
      "outputs": []
    },
    {
      "cell_type": "code",
      "metadata": {
        "id": "hckM4FPdvkEM",
        "colab_type": "code",
        "colab": {}
      },
      "source": [
        "spring_18 = spring_18.rename(columns={'index':'Day', 'Quantity':'Number of Items Sold', 'Item Sale Price':'Total Sales'})"
      ],
      "execution_count": 0,
      "outputs": []
    },
    {
      "cell_type": "code",
      "metadata": {
        "id": "eT5XMB2Xv10n",
        "colab_type": "code",
        "outputId": "d3097f38-6c28-45df-fb98-9ddc0891ebf8",
        "colab": {
          "base_uri": "https://localhost:8080/",
          "height": 202
        }
      },
      "source": [
        "spring_18.head()"
      ],
      "execution_count": 0,
      "outputs": [
        {
          "output_type": "execute_result",
          "data": {
            "text/html": [
              "<div>\n",
              "<style scoped>\n",
              "    .dataframe tbody tr th:only-of-type {\n",
              "        vertical-align: middle;\n",
              "    }\n",
              "\n",
              "    .dataframe tbody tr th {\n",
              "        vertical-align: top;\n",
              "    }\n",
              "\n",
              "    .dataframe thead th {\n",
              "        text-align: right;\n",
              "    }\n",
              "</style>\n",
              "<table border=\"1\" class=\"dataframe\">\n",
              "  <thead>\n",
              "    <tr style=\"text-align: right;\">\n",
              "      <th></th>\n",
              "      <th>Day</th>\n",
              "      <th>Number of Items Sold</th>\n",
              "      <th>Total Sales</th>\n",
              "    </tr>\n",
              "  </thead>\n",
              "  <tbody>\n",
              "    <tr>\n",
              "      <th>0</th>\n",
              "      <td>Mar 20 2018</td>\n",
              "      <td>1</td>\n",
              "      <td>14.99</td>\n",
              "    </tr>\n",
              "    <tr>\n",
              "      <th>1</th>\n",
              "      <td>Mar 21 2018</td>\n",
              "      <td>1</td>\n",
              "      <td>12.00</td>\n",
              "    </tr>\n",
              "    <tr>\n",
              "      <th>2</th>\n",
              "      <td>Mar 22 2018</td>\n",
              "      <td>1</td>\n",
              "      <td>54.99</td>\n",
              "    </tr>\n",
              "    <tr>\n",
              "      <th>3</th>\n",
              "      <td>Mar 23 2018</td>\n",
              "      <td>3</td>\n",
              "      <td>122.04</td>\n",
              "    </tr>\n",
              "    <tr>\n",
              "      <th>4</th>\n",
              "      <td>Mar 24 2018</td>\n",
              "      <td>4</td>\n",
              "      <td>209.00</td>\n",
              "    </tr>\n",
              "  </tbody>\n",
              "</table>\n",
              "</div>"
            ],
            "text/plain": [
              "           Day  Number of Items Sold  Total Sales\n",
              "0  Mar 20 2018                     1        14.99\n",
              "1  Mar 21 2018                     1        12.00\n",
              "2  Mar 22 2018                     1        54.99\n",
              "3  Mar 23 2018                     3       122.04\n",
              "4  Mar 24 2018                     4       209.00"
            ]
          },
          "metadata": {
            "tags": []
          },
          "execution_count": 72
        }
      ]
    },
    {
      "cell_type": "code",
      "metadata": {
        "id": "TmW8Z6whdiCr",
        "colab_type": "code",
        "colab": {}
      },
      "source": [
        "#Q4 2017 (10/1 - 12/31)\n",
        "\n",
        "q4_17 = full_sales_year['2017-10-01':'2017-12-31']"
      ],
      "execution_count": 0,
      "outputs": []
    },
    {
      "cell_type": "code",
      "metadata": {
        "id": "g_cwRNbWd8kw",
        "colab_type": "code",
        "colab": {}
      },
      "source": [
        "q4_17 = q4_17.resample('D').sum()"
      ],
      "execution_count": 0,
      "outputs": []
    },
    {
      "cell_type": "code",
      "metadata": {
        "id": "G7njnoBaeBbF",
        "colab_type": "code",
        "colab": {}
      },
      "source": [
        "q4_17.index = q4_17.index.strftime('%b %d %Y')"
      ],
      "execution_count": 0,
      "outputs": []
    },
    {
      "cell_type": "code",
      "metadata": {
        "id": "k4VkHm34eF5K",
        "colab_type": "code",
        "colab": {}
      },
      "source": [
        "q4_17 = q4_17.reset_index()"
      ],
      "execution_count": 0,
      "outputs": []
    },
    {
      "cell_type": "code",
      "metadata": {
        "id": "r-NRLHH0fh1e",
        "colab_type": "code",
        "colab": {}
      },
      "source": [
        "q4_17 = q4_17.rename(columns={'index':'Day', 'Quantity':'Number of Items Sold', 'Item Sale Price':'Total Sales'})"
      ],
      "execution_count": 0,
      "outputs": []
    },
    {
      "cell_type": "code",
      "metadata": {
        "id": "66O5a4uphhON",
        "colab_type": "code",
        "colab": {}
      },
      "source": [
        "#Now for some visuals..."
      ],
      "execution_count": 0,
      "outputs": []
    },
    {
      "cell_type": "code",
      "metadata": {
        "id": "wEQV1SdAhj1T",
        "colab_type": "code",
        "colab": {}
      },
      "source": [
        "import matplotlib.pyplot as plt"
      ],
      "execution_count": 0,
      "outputs": []
    },
    {
      "cell_type": "code",
      "metadata": {
        "id": "9__rWqJq0v7v",
        "colab_type": "code",
        "colab": {}
      },
      "source": [
        "#An additional copy to experiment with a plot...\n",
        "\n",
        "full1 = full.copy()"
      ],
      "execution_count": 0,
      "outputs": []
    },
    {
      "cell_type": "code",
      "metadata": {
        "id": "m6TWYtis04cd",
        "colab_type": "code",
        "colab": {}
      },
      "source": [
        "full1 = full1.reset_index()"
      ],
      "execution_count": 0,
      "outputs": []
    },
    {
      "cell_type": "code",
      "metadata": {
        "id": "AFSuL2mg0_yX",
        "colab_type": "code",
        "colab": {}
      },
      "source": [
        "full1 = full1.rename(columns={'index':'Sale Date'})"
      ],
      "execution_count": 0,
      "outputs": []
    },
    {
      "cell_type": "code",
      "metadata": {
        "id": "uXnOK_G41LQ3",
        "colab_type": "code",
        "outputId": "8cd9d0a0-5c9e-4011-d6c4-a8fa3966cb59",
        "colab": {
          "base_uri": "https://localhost:8080/",
          "height": 202
        }
      },
      "source": [
        "full1.head()"
      ],
      "execution_count": 0,
      "outputs": [
        {
          "output_type": "execute_result",
          "data": {
            "text/html": [
              "<div>\n",
              "<style scoped>\n",
              "    .dataframe tbody tr th:only-of-type {\n",
              "        vertical-align: middle;\n",
              "    }\n",
              "\n",
              "    .dataframe tbody tr th {\n",
              "        vertical-align: top;\n",
              "    }\n",
              "\n",
              "    .dataframe thead th {\n",
              "        text-align: right;\n",
              "    }\n",
              "</style>\n",
              "<table border=\"1\" class=\"dataframe\">\n",
              "  <thead>\n",
              "    <tr style=\"text-align: right;\">\n",
              "      <th></th>\n",
              "      <th>Sale Date</th>\n",
              "      <th>Number of Items Sold</th>\n",
              "      <th>Total Sales</th>\n",
              "    </tr>\n",
              "  </thead>\n",
              "  <tbody>\n",
              "    <tr>\n",
              "      <th>0</th>\n",
              "      <td>Jun 2017</td>\n",
              "      <td>41</td>\n",
              "      <td>984.43</td>\n",
              "    </tr>\n",
              "    <tr>\n",
              "      <th>1</th>\n",
              "      <td>Jul 2017</td>\n",
              "      <td>156</td>\n",
              "      <td>4232.98</td>\n",
              "    </tr>\n",
              "    <tr>\n",
              "      <th>2</th>\n",
              "      <td>Aug 2017</td>\n",
              "      <td>214</td>\n",
              "      <td>6231.05</td>\n",
              "    </tr>\n",
              "    <tr>\n",
              "      <th>3</th>\n",
              "      <td>Sep 2017</td>\n",
              "      <td>151</td>\n",
              "      <td>4650.53</td>\n",
              "    </tr>\n",
              "    <tr>\n",
              "      <th>4</th>\n",
              "      <td>Oct 2017</td>\n",
              "      <td>218</td>\n",
              "      <td>5227.56</td>\n",
              "    </tr>\n",
              "  </tbody>\n",
              "</table>\n",
              "</div>"
            ],
            "text/plain": [
              "  Sale Date  Number of Items Sold  Total Sales\n",
              "0  Jun 2017                    41       984.43\n",
              "1  Jul 2017                   156      4232.98\n",
              "2  Aug 2017                   214      6231.05\n",
              "3  Sep 2017                   151      4650.53\n",
              "4  Oct 2017                   218      5227.56"
            ]
          },
          "metadata": {
            "tags": []
          },
          "execution_count": 52
        }
      ]
    },
    {
      "cell_type": "code",
      "metadata": {
        "id": "8monFnjK7JP8",
        "colab_type": "code",
        "outputId": "66daa819-0bbd-44fa-a5b9-82d7a03e133c",
        "colab": {
          "base_uri": "https://localhost:8080/",
          "height": 583
        }
      },
      "source": [
        "#Visualization 1\n",
        "\n",
        "fig, ax = plt.subplots()\n",
        "\n",
        "plt.style.use('ggplot')\n",
        "\n",
        "plt.plot(full1['Sale Date'], full1['Number of Items Sold'], linewidth=3, color='mediumblue')\n",
        "plt.fill_between(x=full1['Sale Date'], y1=full1['Number of Items Sold'], alpha=.3, color='mediumblue') \n",
        "\n",
        "plt.axvline('Jun 2017', linestyle='dashed', alpha=0.7, color='red')\n",
        "plt.axvline('Sep 2017', linestyle='dashed', alpha=0.7, color='red')\n",
        "plt.text('Jun 2017', y=240, s='           Summer\\n', fontsize=16, weight='bold') #Select a different 'summery' color. #Maybe no Slowdown.\n",
        "plt.axvline('Oct 2017', linestyle='dashed', alpha=0.7, color='green') \n",
        "plt.axvline('Dec 2017', linestyle='dashed', alpha=0.7, color='green')\n",
        "#ax.set_facecolor('lightgrey') #If you wanted to change the facecolor of the grid.\n",
        "#plt.axvspan('Sep 2017', 'Dec 2017', alpha=0.2, color='skyblue') #Adding a highlighted portion of the graph.\n",
        "plt.text('Oct 2017', y=395, s='          Q4', weight='bold', fontsize=16)\n",
        "fig.suptitle('A Sales Year in Review (Jun 2017-Jun 2018)', fontsize=20, weight='bold')\n",
        "#plt.xlabel('Month of the Year', fontsize=12, weight='bold') #Adding an xlabel.\n",
        "plt.ylabel('Number of\\n Clothing Items Sold', rotation=0, labelpad=70, fontsize=14, weight='bold') \n",
        "plt.ylim(0, 425)\n",
        "plt.xticks(['Jun 2017', 'Sep 2017', 'Oct 2017', 'Dec 2017', 'Mar 2018', 'Jun 2018'])\n",
        "fig.autofmt_xdate();"
      ],
      "execution_count": 0,
      "outputs": [
        {
          "output_type": "display_data",
          "data": {
            "image/png": "[encoded data removed]",
            "text/plain": [
              "<Figure size 921.6x633.6 with 1 Axes>"
            ]
          },
          "metadata": {
            "tags": []
          }
        }
      ]
    },
    {
      "cell_type": "code",
      "metadata": {
        "id": "_UemGykxfFEt",
        "colab_type": "code",
        "outputId": "fde69d79-8fcf-4d95-b50f-843b1eccf0cf",
        "colab": {
          "base_uri": "https://localhost:8080/",
          "height": 595
        }
      },
      "source": [
        "#Visualization 2\n",
        "\n",
        "#A Close Up: Summer 17 vs Q4 17\n",
        "\n",
        "fig, (ax1, ax2) = plt.subplots(1, 2, sharex = False, sharey=False)\n",
        "plt.style.use('ggplot')\n",
        "fig.suptitle('A Daily Look at Summer 2017 vs Q4 2017', fontsize=20, weight='bold')\n",
        "ax1.plot(summer_17['Day'], summer_17['Number of Items Sold'], linewidth=2, color='mediumblue')\n",
        "ax1.plot()\n",
        "ax1.set_ylim(0, 25)\n",
        "ax1.set_xlim('Jun 20 2017','Sep 21 2017')\n",
        "ax1.set_ylabel('Number of\\n Clothing Items Sold', rotation=0, labelpad=70, fontsize=14, weight='bold')\n",
        "ax1.set_title('Summer 2017', fontsize=16)\n",
        "ax1.set_xticks(['Jun 20 2017', 'Aug 07 2017', 'Sep 21 2017'])\n",
        "ax1.annotate('Max = 12', weight='bold', fontsize=12, xy=('Aug 14 2017', 12), xytext=('Aug 14 2017', 12+2),\n",
        "            arrowprops=dict(facecolor='black', shrink=0.03),\n",
        "            )\n",
        "ax1.annotate('Mean = 5.66', weight='bold', fontsize=12, xy=('Jun 23 2017', 5.66), xytext=('Jun 23 2017', 5.66+4.1),\n",
        "            arrowprops=dict(facecolor='black', shrink=0.03),\n",
        "            )\n",
        "ax1.axhline(5.66, alpha=0.7, color='yellow')\n",
        "ax2.plot(q4_17['Day'], q4_17['Number of Items Sold'], linewidth=2, color='mediumblue')\n",
        "\n",
        "ax2.annotate('Max = 21', weight='bold', fontsize=12, xy=('Nov 17 2017', 21), xytext=('Nov 11 2017', 21+2),\n",
        "            arrowprops=dict(facecolor='black', shrink=0.03),\n",
        "            )\n",
        "ax2.annotate('Mean = 10.21', weight='bold', fontsize=12, xy=('Oct 13 2017', 10.21), xytext=('Oct 13 2017', 10.21+3),\n",
        "            arrowprops=dict(facecolor='black', shrink=0.03),\n",
        "            )\n",
        "ax2.axvline('Nov 27 2017', linestyle='dashed', alpha=0.7, color='green')\n",
        "ax2.axhline(10.21, alpha=0.7, color='yellow')\n",
        "ax2.text('Nov 27 2017', y=19, s='  Cyber Monday', fontsize=13, weight='bold')\n",
        "ax2.set_title('Q4 2017', fontsize=16)\n",
        "ax2.set_ylim(0, 25)\n",
        "ax2.set_xlim('Oct 01 2017', 'Dec 31 2017')\n",
        "ax2.set_xticks(['Oct 01 2017', 'Nov 16 2017', 'Dec 31 2017'])\n",
        "fig.autofmt_xdate();"
      ],
      "execution_count": 0,
      "outputs": [
        {
          "output_type": "display_data",
          "data": {
            "image/png": "[encoded data removed]",
            "text/plain": [
              "<Figure size 921.6x633.6 with 2 Axes>"
            ]
          },
          "metadata": {
            "tags": []
          }
        }
      ]
    },
    {
      "cell_type": "code",
      "metadata": {
        "id": "ldHhExZ7cXs-",
        "colab_type": "code",
        "outputId": "a134467b-e406-4f11-9dca-56a661f4a4d6",
        "colab": {
          "base_uri": "https://localhost:8080/",
          "height": 294
        }
      },
      "source": [
        "#Descriptive statistics for Summer 2017\n",
        "\n",
        "sum_des = summer_17.drop(columns=['Total Sales'])\n",
        "\n",
        "sum_des.describe()"
      ],
      "execution_count": 0,
      "outputs": [
        {
          "output_type": "execute_result",
          "data": {
            "text/html": [
              "<div>\n",
              "<style scoped>\n",
              "    .dataframe tbody tr th:only-of-type {\n",
              "        vertical-align: middle;\n",
              "    }\n",
              "\n",
              "    .dataframe tbody tr th {\n",
              "        vertical-align: top;\n",
              "    }\n",
              "\n",
              "    .dataframe thead th {\n",
              "        text-align: right;\n",
              "    }\n",
              "</style>\n",
              "<table border=\"1\" class=\"dataframe\">\n",
              "  <thead>\n",
              "    <tr style=\"text-align: right;\">\n",
              "      <th></th>\n",
              "      <th>Number of Items Sold</th>\n",
              "    </tr>\n",
              "  </thead>\n",
              "  <tbody>\n",
              "    <tr>\n",
              "      <th>count</th>\n",
              "      <td>94.000000</td>\n",
              "    </tr>\n",
              "    <tr>\n",
              "      <th>mean</th>\n",
              "      <td>5.659574</td>\n",
              "    </tr>\n",
              "    <tr>\n",
              "      <th>std</th>\n",
              "      <td>2.600882</td>\n",
              "    </tr>\n",
              "    <tr>\n",
              "      <th>min</th>\n",
              "      <td>1.000000</td>\n",
              "    </tr>\n",
              "    <tr>\n",
              "      <th>25%</th>\n",
              "      <td>4.000000</td>\n",
              "    </tr>\n",
              "    <tr>\n",
              "      <th>50%</th>\n",
              "      <td>5.500000</td>\n",
              "    </tr>\n",
              "    <tr>\n",
              "      <th>75%</th>\n",
              "      <td>7.000000</td>\n",
              "    </tr>\n",
              "    <tr>\n",
              "      <th>max</th>\n",
              "      <td>12.000000</td>\n",
              "    </tr>\n",
              "  </tbody>\n",
              "</table>\n",
              "</div>"
            ],
            "text/plain": [
              "       Number of Items Sold\n",
              "count             94.000000\n",
              "mean               5.659574\n",
              "std                2.600882\n",
              "min                1.000000\n",
              "25%                4.000000\n",
              "50%                5.500000\n",
              "75%                7.000000\n",
              "max               12.000000"
            ]
          },
          "metadata": {
            "tags": []
          },
          "execution_count": 103
        }
      ]
    },
    {
      "cell_type": "code",
      "metadata": {
        "id": "E2EqXNjMdej6",
        "colab_type": "code",
        "outputId": "58fe1724-ce21-45ce-8fd1-f379f5adbcb9",
        "colab": {
          "base_uri": "https://localhost:8080/",
          "height": 294
        }
      },
      "source": [
        "#Descriptive statistics for Q4 2017\n",
        "\n",
        "q4_des = q4_17.drop(columns=['Total Sales'])\n",
        "\n",
        "q4_des.describe()"
      ],
      "execution_count": 0,
      "outputs": [
        {
          "output_type": "execute_result",
          "data": {
            "text/html": [
              "<div>\n",
              "<style scoped>\n",
              "    .dataframe tbody tr th:only-of-type {\n",
              "        vertical-align: middle;\n",
              "    }\n",
              "\n",
              "    .dataframe tbody tr th {\n",
              "        vertical-align: top;\n",
              "    }\n",
              "\n",
              "    .dataframe thead th {\n",
              "        text-align: right;\n",
              "    }\n",
              "</style>\n",
              "<table border=\"1\" class=\"dataframe\">\n",
              "  <thead>\n",
              "    <tr style=\"text-align: right;\">\n",
              "      <th></th>\n",
              "      <th>Number of Items Sold</th>\n",
              "    </tr>\n",
              "  </thead>\n",
              "  <tbody>\n",
              "    <tr>\n",
              "      <th>count</th>\n",
              "      <td>92.000000</td>\n",
              "    </tr>\n",
              "    <tr>\n",
              "      <th>mean</th>\n",
              "      <td>10.206522</td>\n",
              "    </tr>\n",
              "    <tr>\n",
              "      <th>std</th>\n",
              "      <td>4.015186</td>\n",
              "    </tr>\n",
              "    <tr>\n",
              "      <th>min</th>\n",
              "      <td>1.000000</td>\n",
              "    </tr>\n",
              "    <tr>\n",
              "      <th>25%</th>\n",
              "      <td>7.000000</td>\n",
              "    </tr>\n",
              "    <tr>\n",
              "      <th>50%</th>\n",
              "      <td>10.000000</td>\n",
              "    </tr>\n",
              "    <tr>\n",
              "      <th>75%</th>\n",
              "      <td>12.250000</td>\n",
              "    </tr>\n",
              "    <tr>\n",
              "      <th>max</th>\n",
              "      <td>21.000000</td>\n",
              "    </tr>\n",
              "  </tbody>\n",
              "</table>\n",
              "</div>"
            ],
            "text/plain": [
              "       Number of Items Sold\n",
              "count             92.000000\n",
              "mean              10.206522\n",
              "std                4.015186\n",
              "min                1.000000\n",
              "25%                7.000000\n",
              "50%               10.000000\n",
              "75%               12.250000\n",
              "max               21.000000"
            ]
          },
          "metadata": {
            "tags": []
          },
          "execution_count": 107
        }
      ]
    }
  ]
}